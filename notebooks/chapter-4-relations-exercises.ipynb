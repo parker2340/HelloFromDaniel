{
  "cells": [
    {
      "cell_type": "markdown",
      "source": [
        "# <font color=blue>Chapter 4 Relations Exercises</font>\n",
        "## <font color=blue>Prepare</font>\n"
      ],
      "metadata": {
        "id": "JFqE_gsFu0_Z"
      }
    },
    {
      "cell_type": "markdown",
      "source": [
        "## <font color=red>Chapter 4 Relations Code in Figure 4.1</font>"
      ],
      "metadata": {
        "id": "e6UHK71Xu4MA"
      }
    },
    {
      "cell_type": "code",
      "execution_count": null,
      "source": [
        "from itertools import product\n",
        "from operator import concat\n",
        "from functools import reduce\n",
        "\n",
        "def personality3(boolfunc3):\n",
        "    bits = [0, 1]\n",
        "    inputs3 = list(product(bits, bits, bits))\n",
        "    # thus inputs3 are generated instead of hardwired as\n",
        "    # [(0, 0, 0), (0, 0, 1), (0, 1, 0), (0, 1, 1), (1, 0, 0), (1, 0, 1), (1, 1, 0), (1, 1, 1)]\n",
        "    outputs = map(boolfunc3, map(lambda x:x[0], inputs3), map(lambda x:x[1], inputs3), map(lambda x:x[2], inputs3))\n",
        "    return reduce(concat, map(str, outputs))"
      ],
      "outputs": [],
      "metadata": {
        "id": "xw-UKQtHu-Qo"
      }
    },
    {
      "cell_type": "markdown",
      "source": [
        "## <font color=red>4.1 Products and Subsets</font>\n"
      ],
      "metadata": {
        "id": "r4jAmXzdvDxP"
      }
    },
    {
      "cell_type": "markdown",
      "source": [
        "No exercises.\n"
      ],
      "metadata": {
        "id": "5vSf0FdGvFas"
      }
    },
    {
      "cell_type": "markdown",
      "source": [
        "## <font color=red>4.2 Four Main Properties</font>\n"
      ],
      "metadata": {
        "id": "8LJQrYH3vGWx"
      }
    },
    {
      "cell_type": "markdown",
      "source": [
        "### Exercise 4.2.1\n"
      ],
      "metadata": {
        "id": "ASjzrRNDvHYA"
      }
    },
    {
      "cell_type": "markdown",
      "source": [
        "From the definition of antisymmetric, logically argue that if $xRy$ and $x \\ne y$ then it must be false that $yRx$.\n"
      ],
      "metadata": {
        "id": "a-2f-yD0vIRy"
      }
    },
    {
      "cell_type": "code",
      "execution_count": null,
      "source": [
        "#@title Hint {display-mode: \"form\"}\n",
        "'''\n",
        "The definition is a conditional, so use its contrapositive, which is equivalent.\n",
        "'''\n"
      ],
      "outputs": [],
      "metadata": {
        "id": "j2REJG-kvLzh"
      }
    },
    {
      "cell_type": "code",
      "execution_count": null,
      "source": [
        "#@title Answer {display-mode: \"form\"}\n",
        "from IPython.display import Markdown\n",
        "display(Markdown('''\n",
        "The conditional $p \\\\rightarrow q$ has $\\\\lnot q \\\\rightarrow \\\\lnot p$ as its contrapositive.\n",
        "\n",
        "So $x \\\\ne y \\\\rightarrow \\\\lnot (xRy \\\\land yRx) \\\\equiv x \\\\ne y \\\\rightarrow \\\\lnot (xRy) \\\\lor \\\\lnot (yRx)$.\n",
        "\n",
        "Using the &ldquo;Rule of Inference&rdquo; named &ldquo;Disjunctive Syllogism&rdquo; --- which says that if you have $p \\\\lor q$ and you have $\\\\lnot p$ then you can infer $q$ --- because $xRy$ was given, the negation of that being the $p$ in the disjunction, the negation of $yRx$ (the $q$ in the disjunction) can be inferred.\n",
        "\n",
        "(For much more information, see this [List of Rules of Inference](https://en.wikipedia.org/wiki/List_of_rules_of_inference).)\n",
        "'''))\n"
      ],
      "outputs": [],
      "metadata": {
        "id": "9qV6PPsqvO9e"
      }
    },
    {
      "cell_type": "markdown",
      "source": [
        "### Exercise 4.2.2\n"
      ],
      "metadata": {
        "id": "ZlpqvEcP-pz4"
      }
    },
    {
      "cell_type": "markdown",
      "source": [
        "Which of the following pairs are in the relation on the set $\\{1, 2, 3, 4\\}$ given by the description $\\{(x, y)\\ \\vert\\ x > y + 1\\}$?\n",
        "1. $(2, 1)$\n",
        "2. $(2, 2)$\n",
        "3. $(2, 3)$\n",
        "4. $(2, 4)$\n",
        "5. $(3, 1)$\n",
        "6. $(3, 2)$\n",
        "7. $(4, 1)$\n",
        "8. $(4, 2)$\n",
        "9. $(4, 3)$\n"
      ],
      "metadata": {
        "id": "kxjplwJV-ryF"
      }
    },
    {
      "cell_type": "code",
      "execution_count": null,
      "source": [
        "#@title Hint {display-mode: \"form\"}\n",
        "from IPython.display import Markdown\n",
        "display(Markdown('''\n",
        "This is easy to eyeball, but consider calling the function \\\\\n",
        "```lambda x, y: x > y + 1``` in a nested loop to verify.\n",
        "'''))"
      ],
      "outputs": [],
      "metadata": {
        "id": "417s9y1_-ua0"
      }
    },
    {
      "cell_type": "code",
      "execution_count": null,
      "source": [
        "#@title Answer {display-mode: \"form\"}\n",
        "for x in range(1, 5):\n",
        "  for y in range(1, 5):\n",
        "    if (lambda x, y: x > y + 1)(x, y):\n",
        "      print(f'{(x, y)}')\n"
      ],
      "outputs": [],
      "metadata": {
        "id": "7QjJyi46_LrK"
      }
    },
    {
      "cell_type": "markdown",
      "source": [
        "### Exercise 4.2.3\n"
      ],
      "metadata": {
        "id": "PnuAANu5_Pnw"
      }
    },
    {
      "cell_type": "markdown",
      "source": [
        "The four properties of reflexivity, symmetry, antisymmetry, and transitivity, in that order, can be encoded as a string of four bits, then converted to a number in the range 0 to 15. Call the resulting number the &ldquo;profile&rdquo; of the relation. For example, the profiles of $R_1$, $R_2$, $R_3$, and $R_4$ from Section 4.2 in the textbook are 7, 0, 2, and 3, respectively (converted from the &ldquo;bitstrings&rdquo; $0111$, $0000$, $0010$, and $0011$).\n"
      ],
      "metadata": {
        "id": "-4W5uCQQ_RHv"
      }
    },
    {
      "cell_type": "markdown",
      "source": [
        "What are the profiles of the following relations, all over the set $\\{1, 2, 3\\}$?\n",
        "1. $\\{(1, 1), (1, 3), (2, 2), (3, 1)\\}$\n",
        "2. $\\{(1, 1), (2, 2), (3, 1), (3, 3)\\}$\n",
        "3. $\\{(1, 2), (2, 1), (3, 3)\\}$\n",
        "4. $\\{(1, 3), (2, 3)\\}$\n"
      ],
      "metadata": {
        "id": "UzoCHKOo_VL4"
      }
    },
    {
      "cell_type": "code",
      "execution_count": null,
      "source": [
        "#@title Hint {display-mode: \"form\"}\n",
        "print('''This is a very straightforward exercise.''')\n"
      ],
      "outputs": [],
      "metadata": {
        "id": "h-yjiD-5_Zqk"
      }
    },
    {
      "cell_type": "code",
      "execution_count": null,
      "source": [
        "#@title Answer {display-mode: \"form\"}\n",
        "print('''\n",
        "1. 4\n",
        "2. 11\n",
        "3. 4\n",
        "4. 3\n",
        "''')\n"
      ],
      "outputs": [],
      "metadata": {
        "id": "oPscKKDm_ssT"
      }
    },
    {
      "cell_type": "markdown",
      "source": [
        "### Exercise 4.2.4\n"
      ],
      "metadata": {
        "id": "aa7XPJR5_vLB"
      }
    },
    {
      "cell_type": "markdown",
      "source": [
        "How many possible binary relations are there on a set with 3 elements? What about a set with $n$ elements? Write a Python expression as a function of $n$ as your answer, and explain it.\n"
      ],
      "metadata": {
        "id": "G4yhZZ6x_xO3"
      }
    },
    {
      "cell_type": "code",
      "execution_count": null,
      "source": [
        "#@title Hint {display-mode: \"form\"}\n",
        "from IPython.display import Markdown\n",
        "display(Markdown('''How many subsets are there of a set of size $s$?'''))\n"
      ],
      "outputs": [],
      "metadata": {
        "id": "DQZ3YEJE_0G5"
      }
    },
    {
      "cell_type": "code",
      "execution_count": null,
      "source": [
        "#@title Answer {display-mode: \"form\"}\n",
        "from IPython.display import Markdown\n",
        "display(Markdown('''\n",
        "The answer is $2$ to the power $n^{2}$, because the product of a set of $n$ elements with itself is $n \\\\times n = n^{2}$. \\\\\n",
        "In Python: ```2 ** n ** 2```\n",
        "'''))\n"
      ],
      "outputs": [],
      "metadata": {
        "id": "9RROXMRG_-vq"
      }
    },
    {
      "cell_type": "markdown",
      "source": [
        "### Exercise 4.2.5\n"
      ],
      "metadata": {
        "id": "9q1K9og6AS5m"
      }
    },
    {
      "cell_type": "markdown",
      "source": [
        "A relation $R$ on $A = \\{a_1, a_2, \\ldots, a_n\\}$ can be represented by an $n \\times n$ zero-one matrix $M_R$ whose $(i, j)^{th}$ entry is $1$ if $(a_i,\\ a_j) \\in R$ and is $0$ otherwise.\n",
        "\n",
        "For example, $R_1$ defined as a binary self-relation over the set $\\{a,\\ b\\}$ consisting of the pairs $\\{(a,\\ a),\\ (a,\\ b),\\ (b,\\ b)\\}$ is represented by this\n",
        "$2 \\times 2$ matrix:\n",
        "\n",
        "$\\left[\\begin{array}{ll} 1 & 1 \\\\ 0 & 1 \\end{array}\\right]$.\n",
        "\n",
        "Implemented by the Python list-of-lists ```[[1, 1], [0, 1]]```, this matrix is collapsed into the $2^{2} = 4$ bits $1$, $1$, $0$, and $1$ --- expressed as the number $13$ ($1101$ in binary) --- and so encoded as the pair $(13, 2)$.\n",
        "\n",
        "For another example, $R_2$ defined over $\\{a,\\ b,\\ c,\\ d\\}$ as $\\{(a,\\ a),\\ (a,\\ b),\\ (b,\\ b),\\ (b,\\ c),\\ (c,\\ c),\\ (d,\\ b),\\ (d,\\ d)\\}$ has this $4 \\times 4$ matrix:\n",
        "\n",
        "$\\left[\\begin{array}{llll} 1 & 1 & 0 & 0\\\\ 0 & 1 & 1 & 0 \\\\ 0 & 0 & 1 & 0\\\\ 0 & 1 & 0 & 1 \\end{array}\\right]$.\n",
        "\n",
        "Implemented by ```[[1, 1, 0, 0], [0, 1, 1, 0], [0, 0, 1, 0], [0, 1, 0, 1]]```, this matrix is collapsed into the $4^{2} = 16$ bits $1100011000100101$, expressed as $50725$, encoded as the pair $(50725, 4)$.\n",
        "\n",
        "Study the code below carefully --- it is deliberately undocumented.\n"
      ],
      "metadata": {
        "id": "7EQqtiGaAWeq"
      }
    },
    {
      "cell_type": "code",
      "execution_count": null,
      "source": [
        "def int2bits_rec(num, a):\n",
        "    if num:\n",
        "        a.insert(0, num % 2)\n",
        "        int2bits_rec(num // 2, a)\n",
        "\n",
        "def int2bits(num, size):\n",
        "    accum = []\n",
        "    int2bits_rec(num, accum)\n",
        "    return [0] * (size - len(accum)) + accum\n",
        "\n",
        "def int2matrix(encoding, n):\n",
        "    bits = int2bits(encoding, n * n)\n",
        "    matrix = []\n",
        "    start = 0\n",
        "    for i in range(n):\n",
        "        matrix.append(bits[start:start + n])\n",
        "        start += n\n",
        "    return matrix\n",
        "\n",
        "def matrix2int_rec(bits, p):\n",
        "    if not bits:\n",
        "        return 0\n",
        "    else:\n",
        "        return (2 ** p if bits[0] else 0) + \\\n",
        "               matrix2int_rec(bits[1:], p + 1)\n",
        "\n",
        "def matrix2int(matrix):\n",
        "    flat = [item for row in matrix for item in row]\n",
        "    flat.reverse()\n",
        "    return matrix2int_rec(flat, 0)\n",
        "\n",
        "for encoding in range(0, 16):\n",
        "    matrix = int2matrix(encoding, 2)\n",
        "    print(matrix, '=', matrix2int(matrix))\n",
        "\n",
        "matrix = int2matrix(500, 3)\n",
        "print(matrix, '=', matrix2int(matrix))\n",
        "\n",
        "matrix = int2matrix(51351, 4)\n",
        "print(matrix, '=', matrix2int(matrix))\n"
      ],
      "outputs": [],
      "metadata": {
        "id": "RcdnZgGaAjau"
      }
    },
    {
      "cell_type": "markdown",
      "source": [
        "Given this code and a relation $R$ encoded as a pair consisting of a decimal number and the size $n$ of $R$'s matrix $M$, write a Python function to implement the following checks:\n"
      ],
      "metadata": {
        "id": "u247ObTNAqfV"
      }
    },
    {
      "cell_type": "markdown",
      "source": [
        "1. $R$ is *reflexive* if $M_{ii} = 1$ for all $i$. (The total number of bits in $M$ is $n \\times n = n^{2}$, as it is a square matrix with $n$ rows and $n$ columns.)\n",
        "2. $R$ is *irreflexive* if $M_{ii} = 0$ for all $i$.\n",
        "3. $R$ is *nonreflexive* if $M_{ii} = 1$ for some $i$'s, $0$ for others.\n",
        "4. $R$ is symmetric if $M = M^{T}$. The &ldquo;transpose&ldquo; of a matrix, $M^{T}$, is the matrix $M$ with its rows and columns swapped. For example, ```[[1, 2, 3], [4, 5, 6], [7, 8, 9]]``` transposed is ```[[1, 4, 7], [2, 5, 8], [3, 6, 9]]```.\n",
        "5. $R$ is *antisymmetric* if $M_{ij} = 0$ or $M_{ji} = 0$ for all $i \\ne j$. That is, there are never two $1$'s symmetrically found across $M$'s main diagonal.\n",
        "6. $R$ is *asymmetric* if &ldquo;$x$ is related to $y$&rdquo; implies &ldquo;$y$ is NOT related to $x$&rdquo; for all $x,\\ y \\in A$. In other words, $R$ is both antisymmetric and irreflexive.\n",
        "7. $R$ is *transitive* if $M$'s &ldquo;Boolean square&rdquo; ($M^{2}$, the &ldquo;Boolean product&rdquo; of $M$ with itself) is &ldquo;less than or equal to&rdquo; $M$. That is, there is a $1$ in $M$ at every location where there is a $1$ in $M^{2}$.\n"
      ],
      "metadata": {
        "id": "9xUMTiR-At_q"
      }
    },
    {
      "cell_type": "code",
      "execution_count": null,
      "source": [
        "#@title Hint {display-mode: \"form\"}\n",
        "from IPython.display import Markdown\n",
        "display(Markdown('''\n",
        "1. The condition to be met for reflexivity is $M_{ii} = 1$ for all $i$. In other words, $M$'s &ldquo;main diagonal&rdquo; is all $1$'s.\n",
        "2. This is like the check for reflexivity with one minor difference.\n",
        "3. Combine implementations of reflexive and irreflexive.\n",
        "4. You don't need it, but FYI, Python can transpose a matrix $M$ with one line of code using the ```zip``` function: ```MT = list(map(list, zip(*M)))```.\n",
        "5. Adapt your symmetry check.\n",
        "6. Combine your antisymmetry and irreflexivity checks with the ```and``` operator.\n",
        "7. This is the hardest one, and may require some additional research. For instance, what is a Boolean product?\n",
        "'''))\n"
      ],
      "outputs": [],
      "metadata": {
        "id": "qrQMUEf9A5N2"
      }
    },
    {
      "cell_type": "code",
      "execution_count": null,
      "source": [
        "#@title Answer {display-mode: \"form\"}\n",
        "def reflexive(encoding, n):\n",
        "  M = int2matrix(encoding, n)\n",
        "  for i in range(n):\n",
        "    if not M[i][i]:\n",
        "      return False\n",
        "  return True\n",
        "\n",
        "def irreflexive(encoding, n):\n",
        "  M = int2matrix(encoding, n)\n",
        "  for i in range(n):\n",
        "    if M[i][i]:\n",
        "      return False\n",
        "  return True\n",
        "\n",
        "def nonreflexive(encoding, n):\n",
        "  return not reflexive(encoding, n) and not irreflexive(encoding, n)\n",
        "\n",
        "def symmetric(encoding, n):\n",
        "  M = int2matrix(encoding, n)\n",
        "  for i in range(n):\n",
        "    for j in range(n):\n",
        "      if not M[i][j] == M[j][i]:\n",
        "        return False\n",
        "  return True\n",
        "\n",
        "def antisymmetric(encoding, n):\n",
        "  M = int2matrix(encoding, n)\n",
        "  for i in range(n):\n",
        "    for j in range(n):\n",
        "      if i != j and M[i][j] and M[j][i]:\n",
        "        return False\n",
        "  return True\n",
        "\n",
        "def asymmetric(encoding, n):\n",
        "  return antisymmetric(encoding, n) and irreflexive(encoding, n)\n",
        "\n",
        "def transitive(encoding, n):\n",
        "  M = int2matrix(encoding, n)\n",
        "  A = B = M\n",
        "  Msquared = [[sum(a and b for a, b in \\\n",
        "              zip(Arow, Bcol)) \\\n",
        "              for Bcol in zip(*B)] for Arow in A]\n",
        "  for i in range(n):\n",
        "    for j in range(n):\n",
        "      if Msquared[i][j] and not M[i][j]:\n",
        "        return False\n",
        "  return True\n"
      ],
      "outputs": [],
      "metadata": {
        "id": "h70hHFkPBFxg"
      }
    },
    {
      "cell_type": "markdown",
      "source": [
        "### Exercise 4.2.6\n"
      ],
      "metadata": {
        "id": "1rlrD93RBMz_"
      }
    },
    {
      "cell_type": "markdown",
      "source": [
        "To thoroughly test your seven properties&rsquo; checking functions, answer the following question three times --- for $n = 2$, $n = 3$, and $n = 4$. What is the breakdown of the frequencies of all seven properties for every possible $n \\times n$ matrix? Sort your tabulated results in descending order, i.e., the first row has the most-frequently-occurring property and the last row has the least-frequently-occurring property.\n"
      ],
      "metadata": {
        "id": "BSKHYF00BQwy"
      }
    },
    {
      "cell_type": "code",
      "execution_count": null,
      "source": [
        "#@title Hint {display-mode: \"form\"}\n",
        "print('Organize your work, prepare every needful thing.')\n"
      ],
      "outputs": [],
      "metadata": {
        "id": "4SI1KJj4Bd4_"
      }
    },
    {
      "cell_type": "code",
      "execution_count": null,
      "source": [
        "#@title Answer{display-mode: \"form\"}\n",
        "print('This code assumes you have created more efficient versions of the property checking functions that take the zero-one matrix, computed once.')\n",
        "\n",
        "def tabulate(n):\n",
        "  allrels = {'reflexive':0, 'irreflexive':0, 'nonreflexive':0, \\\n",
        "             'symmetric':0, 'antisymmetric':0, 'asymmetric':0, \\\n",
        "             'transitive':0}\n",
        "  for encoding in range(2 ** n ** 2):\n",
        "    M = int2matrix(encoding, n)\n",
        "    allrels['reflexive'] += reflexive(M, n)\n",
        "    allrels['irreflexive'] += irreflexive(M, n)\n",
        "    allrels['nonreflexive'] += nonreflexive(M, n)\n",
        "    allrels['symmetric'] += symmetric(M, n)\n",
        "    allrels['antisymmetric'] += antisymmetric(M, n)\n",
        "    allrels['asymmetric'] += asymmetric(M, n)\n",
        "    allrels['transitive'] += transitive(M, n)\n",
        "  return allrels\n",
        "\n",
        "for n in range(2, 5):\n",
        "  all_of_them = tabulate(n)\n",
        "  all_sorted = {key:value for key, value in sorted(all_of_them.items(), \\\n",
        "                key=lambda item: item[1], reverse=True)}\n",
        "  print('\\nn = ', n)\n",
        "  for item in all_sorted.items():\n",
        "    print(item[1], item[0])\n"
      ],
      "outputs": [],
      "metadata": {
        "id": "H_bYxEWrBfjq"
      }
    },
    {
      "cell_type": "markdown",
      "source": [
        "### Exercise 4.2.7 (Optional / Extra Credit)\n"
      ],
      "metadata": {
        "id": "Vfq0xygiCBUq"
      }
    },
    {
      "cell_type": "markdown",
      "source": [
        "The matrix representation of a binary self-relation can be applied to binary relations on two different sets. For example, the $M$ for $R$ where\n",
        "$\\begin{array}{lcl}\n",
        "  A & = & \\{a, b, c\\}\\\\\n",
        "  B & = & \\{e, f, g, h\\}\\\\\n",
        "  R & = & \\{(a, e), (c, g)\\}\\\\\n",
        "  \\end{array}$\n",
        "is\n",
        "$\\left[\\begin{array}{llll} 1 & 0 & 0 & 0\\\\ 0 & 0 & 0 & 0 \\\\ 0 & 0 & 1 & 0\\\\ \\end{array}\\right]$.\n"
      ],
      "metadata": {
        "id": "GIl26b1LCD_A"
      }
    },
    {
      "cell_type": "markdown",
      "source": [
        "Assume the rows are labeled with the elements of $A$ and the columns are labeled with the elements of $B$. Note that the sizes of $A$ and $B$ can be different, and the order of the elements of $A$ and $B$ matters.\n",
        "\n",
        "Modify the code from Exercise 4.2.5 to handle relations on two different sets.\n",
        "\n",
        "Would it make sense to modify the classifying code you wrote in previous exercises to handle these relations?\n"
      ],
      "metadata": {
        "id": "iWoqnzsFCIiy"
      }
    },
    {
      "cell_type": "code",
      "execution_count": null,
      "source": [
        "#@title Hint {display-mode: \"form\"}\n",
        "from IPython.display import Markdown\n",
        "display(Markdown('''\n",
        "Instead of passing just $n$ you will need to pass two parameters: \\\\\n",
        "$r$, the number of rows in the matrix, and $c$, the number of columns. \\\\\n",
        "The size in bits of $M$ will be $r \\\\times c$.\n",
        "'''))\n"
      ],
      "outputs": [],
      "metadata": {
        "id": "Bui9DSeDCWih"
      }
    },
    {
      "cell_type": "code",
      "execution_count": null,
      "source": [
        "#@title Answer{display-mode: \"form\"}\n",
        "print('No, it would not make sense. The seven properties only apply to binary self-relations.')\n"
      ],
      "outputs": [],
      "metadata": {
        "id": "iJo-u5QhChjN"
      }
    },
    {
      "cell_type": "markdown",
      "source": [
        "### Exercise 4.2.8 - (Optional / Extra Credit)\n"
      ],
      "metadata": {
        "id": "l_UOhk_3CoTE"
      }
    },
    {
      "cell_type": "markdown",
      "source": [
        "Modify the code from Exercise 4.2.7 to handle relations on three different sets, which can be of different sizes.\n"
      ],
      "metadata": {
        "id": "BJe4Ve83Cqoi"
      }
    },
    {
      "cell_type": "code",
      "execution_count": null,
      "source": [
        "#@title Hint {display-mode: \"form\"}\n",
        "print('A 3-dimensional matrix is representable as a list of lists of lists.')\n"
      ],
      "outputs": [],
      "metadata": {
        "id": "feeVDIiCCsum"
      }
    },
    {
      "cell_type": "code",
      "execution_count": null,
      "source": [
        "#@title Answer {display-mode: \"form\"}\n",
        "from IPython.display import Markdown\n",
        "display(Markdown('''\n",
        "This is very straightforward. \\\\\n",
        "Modifying code to handle arbitrary $n$-dimensional matrix representations --- not so much.\n",
        "'''))\n"
      ],
      "outputs": [],
      "metadata": {
        "id": "-nxbrPKzCxmo"
      }
    },
    {
      "cell_type": "markdown",
      "source": [
        "## <font color=red>4.3 Relational Databases</font>\n"
      ],
      "metadata": {
        "id": "yPUTKrqmIZnP"
      }
    },
    {
      "cell_type": "markdown",
      "source": [
        "### Exercise 4.3.1\n"
      ],
      "metadata": {
        "id": "u_DQPwKWDKaY"
      }
    },
    {
      "cell_type": "markdown",
      "source": [
        "Add a few more records to the **birthday** table, and implement that table and the **zodiac** table as a tuple of tuples in Python. Then answer the query &ldquo;What is a person&rsquo;s Zodiac sign?&rdquo; by writing code that does the appropriate projections, selections and joins of these two tables.\n"
      ],
      "metadata": {
        "id": "kUOhWii0DLpK"
      }
    },
    {
      "cell_type": "code",
      "execution_count": null,
      "source": [
        "#@title Hint {display-mode: \"form\"}\n",
        "from IPython.display import Markdown\n",
        "display(Markdown('''\n",
        "Tuple-slicing is good for projections; ```filter``` and ```product```, and of course, ```map``` and ```zip``` are useful too. Start by creating a full zodiac table with a row for each day of the year and its sign. The sign for each day is inferable from the original zodiac table that just gives start days.\n",
        "'''))\n"
      ],
      "outputs": [],
      "metadata": {
        "id": "16czPk5uDQ-e"
      }
    },
    {
      "cell_type": "code",
      "execution_count": null,
      "source": [
        "#@title Answer {display-mode: \"form\"}\n",
        "from itertools import product\n",
        "\n",
        "birthdays = (('Bill', 1992, 'Jan', 1), ('Bart', 1992, 'Feb', 10),\n",
        "             ('Ben', 1999, 'Mar', 12), ('Amy', 2000, 'Apr', 4),\n",
        "             ('Bob', 2001, 'May', 13), ('Chet', 2002, 'Jun', 14),\n",
        "             ('Dave', 2003, 'Jul', 15), ('Ed', 2004, 'Aug', 17),\n",
        "             ('Len', 2005, 'Sep', 19), ('Milt', 2006, 'Oct', 20),\n",
        "             ('Ray', 2007, 'Nov', 21), ('Sue', 2000, 'Dec', 22))\n",
        "\n",
        "thezodiac = (('Jan', 20, 'Aquarius'), ('Feb', 19, 'Pisces'),\n",
        "             ('Mar', 21, 'Aries'), ('Apr', 20, 'Taurus'),\n",
        "             ('May', 21, 'Gemini'), ('Jun', 21, 'Cancer'),\n",
        "             ('Jul', 23, 'Leo'), ('Aug', 23, 'Virgo'),\n",
        "             ('Sep', 23, 'Libra'), ('Oct', 23, 'Scorpio'),\n",
        "             ('Nov', 22, 'Sagittarius'), ('Dec', 22, 'Capricorn'))\n",
        "\n",
        "def flatten(obj):\n",
        "  return tuple(item for row in obj for item in row)\n",
        "\n",
        "def makefullzodiacafter(row):\n",
        "  m, d, s = row\n",
        "  return tuple(zip([m] * 31, range(d, 32), [s] * 31))\n",
        "\n",
        "def makefullzodiacbefore(row):\n",
        "  m, d, s = row\n",
        "  return tuple(zip([m] * 31, range(1, d - 1), [s] * 31))\n",
        "\n",
        "rotated = thezodiac[-1:] + thezodiac[:-1]\n",
        "\n",
        "# projection to extract startdays\n",
        "startdays = list(map(lambda x: x[1], thezodiac))\n",
        "rotated = tuple(zip(map(lambda x :x[0], thezodiac), startdays, \\\n",
        "                    map(lambda x: x[2], rotated)))\n",
        "\n",
        "# create a full zodiac table\n",
        "zodiacafter = flatten(map(makefullzodiacafter, thezodiac))\n",
        "zodiacbefore = flatten(map(makefullzodiacbefore, rotated))\n",
        "fullzodiac = tuple(zodiacbefore) + tuple(zodiacafter)\n",
        "cartprod = product(birthdays, fullzodiac)\n",
        "joined = map(lambda pair: tuple(flatten(pair)), cartprod)\n",
        "filtered = tuple(filter(lambda row: row[2] == row[4] and \\\n",
        "                                    row[3] == row[5], joined))\n",
        "\n",
        "projected = tuple(map(lambda row: row[:4] + row[-1:], filtered))\n",
        "\n",
        "for row in projected:\n",
        "  print(row)\n"
      ],
      "outputs": [],
      "metadata": {
        "id": "ATaD59a7DVIb"
      }
    },
    {
      "cell_type": "markdown",
      "source": [
        "### Exercise 4.3.2\n"
      ],
      "metadata": {
        "id": "jEZp1mjTEI2-"
      }
    },
    {
      "cell_type": "markdown",
      "source": [
        "Here is a tiny database of students and courses, implemented as Python lists and dictionaries.\n"
      ],
      "metadata": {
        "id": "VHt6cunTEKI6"
      }
    },
    {
      "cell_type": "code",
      "execution_count": null,
      "source": [
        "students = [1, 2, 3, 4, 5, 6, 7, 8]\n",
        "\n",
        "courses = [100, 200, 300, 400]\n",
        "\n",
        "student2course = {1:[100, 200], 2:[100], 3:[100, 200, 300], \\\n",
        "                  4:[100, 200, 300, 400], 5:[100], 6:[100], \\\n",
        "                  7:[100, 200], 8:[100, 200, 300, 400]}\n",
        "\n",
        "course2student = {100:[1, 2, 3, 4, 5, 6, 7, 8], \\\n",
        "                  200:[1, 3, 4, 7, 8], \\\n",
        "                  300:[3, 4, 8], 400:[4, 8]}"
      ],
      "outputs": [],
      "metadata": {
        "id": "665RVle5ELll"
      }
    },
    {
      "cell_type": "markdown",
      "source": [
        "You can tell just by looking, but your task is to write code to\n",
        "* find all students who have taken all courses, and\n",
        "* find all courses that have been taken by all students.\n"
      ],
      "metadata": {
        "id": "0wDnB9JEESwV"
      }
    },
    {
      "cell_type": "code",
      "execution_count": null,
      "source": [
        "#@title Hint {display-mode: \"form\"}\n",
        "from IPython.display import Markdown\n",
        "display(Markdown('''\n",
        "The queries are &ldquo;duals&rdquo; of each other. Both of them could use a couple of ```lambda``` functions and a single call to the ```list```, ```filter```, ```all```, and ```map``` functions.\n",
        "'''))\n"
      ],
      "outputs": [],
      "metadata": {
        "id": "U7hE7B-RETUj"
      }
    },
    {
      "cell_type": "code",
      "execution_count": null,
      "source": [
        "#@title Answer {display-mode: \"form\"}\n",
        "# students who have taken all courses\n",
        "print(list(filter(lambda student: all(map(lambda course: \\\n",
        "           course in student2course[student], courses)), students)))\n",
        "\n",
        "# courses that have been taken by all students\n",
        "print(list(filter(lambda course: all(map(lambda student: \\\n",
        "           student in course2student[course], students)), courses)))\n"
      ],
      "outputs": [],
      "metadata": {
        "id": "HeAomD27EYuQ"
      }
    },
    {
      "cell_type": "markdown",
      "source": [
        "### Exercise 4.3.3\n"
      ],
      "metadata": {
        "id": "JViCOwzcEcK3"
      }
    },
    {
      "cell_type": "markdown",
      "source": [
        "Investigate primary keys, secondary keys, foreign keys, and &ldquo;normal forms&rdquo; for relational databases.\n"
      ],
      "metadata": {
        "id": "uIVZIYHsEd8F"
      }
    },
    {
      "cell_type": "code",
      "execution_count": null,
      "source": [
        "#@title Hint {display-mode: \"form\"}\n",
        "print('A report on your findings will show your engagement level with these topics.')\n"
      ],
      "outputs": [],
      "metadata": {
        "id": "fUjbEKhtEfIC"
      }
    },
    {
      "cell_type": "code",
      "execution_count": null,
      "source": [
        "#@title Answer {display-mode: \"form\"}\n",
        "print('Your instructor or a TA will evaluate your level of engagement.')\n"
      ],
      "outputs": [],
      "metadata": {
        "id": "JLoWucpOEvxE"
      }
    },
    {
      "cell_type": "markdown",
      "source": [
        "## <font color=red>4.4 Equivalence Relations</font>\n"
      ],
      "metadata": {
        "id": "SMldQiiQEyE1"
      }
    },
    {
      "cell_type": "markdown",
      "source": [
        "No exercises.\n"
      ],
      "metadata": {
        "id": "LM2OFTn4Eza0"
      }
    },
    {
      "cell_type": "markdown",
      "source": [
        "## <font color=red>4.5 Congruences</font>\n"
      ],
      "metadata": {
        "id": "2N-1qEh4E0o2"
      }
    },
    {
      "cell_type": "markdown",
      "source": [
        "No exercises.\n"
      ],
      "metadata": {
        "id": "pdZUmScvE1qE"
      }
    },
    {
      "cell_type": "markdown",
      "source": [
        "## <font color=red>4.7 Equivalence Classes and Partitions</font>\n"
      ],
      "metadata": {
        "id": "6ZGmpB_vE23m"
      }
    },
    {
      "cell_type": "markdown",
      "source": [
        "### Exercise 4.7.1\n"
      ],
      "metadata": {
        "id": "DOgpOI-KE4JK"
      }
    },
    {
      "cell_type": "markdown",
      "source": [
        "How many buses does the army need to transport 1,128 soldiers if each bus holds 36 soldiers?\n"
      ],
      "metadata": {
        "id": "u_t3M0u8E5qK"
      }
    },
    {
      "cell_type": "code",
      "execution_count": null,
      "source": [
        "#@title Hint {display-mode: \"form\"}\n",
        "from IPython.display import Markdown\n",
        "display(Markdown('''\n",
        "This is to see if you are smarter than an eighth-grader:\n",
        "> A test item on a National Assessment of Educational Progress (NAEP)\n",
        "mathematics assessment presented [this] question to eighth\n",
        "grade students as an open-ended prompt demanding a written answer.\n",
        "'''))\n"
      ],
      "outputs": [],
      "metadata": {
        "id": "Pjq4TqtLE8fQ"
      }
    },
    {
      "cell_type": "code",
      "execution_count": null,
      "source": [
        "#@title Answer {display-mode: \"form\"}\n",
        "from IPython.display import Markdown\n",
        "display(Markdown('''\n",
        "Almost one-third of the eighth graders gave the answer &ldquo;31 remainder 12&rdquo;,\n",
        "showing they completely misunderstood that the right answer is\n",
        "$\\\\lceil \\\\frac{1128}{36} \\\\rceil = 32$.\n",
        "'''))\n"
      ],
      "outputs": [],
      "metadata": {
        "id": "6gYkWa3MFAFd"
      }
    },
    {
      "cell_type": "markdown",
      "source": [
        "### Exercise 4.7.2\n"
      ],
      "metadata": {
        "id": "4ejmLadlFQde"
      }
    },
    {
      "cell_type": "markdown",
      "source": [
        "Create a table similar to Table 4.7 to make it clear how CM7 partitions $\\mathbb{Z}$.\n"
      ],
      "metadata": {
        "id": "-RK888XiFQ-h"
      }
    },
    {
      "cell_type": "code",
      "execution_count": null,
      "source": [
        "#@title Hint {display-mode: \"form\"}\n",
        "print('CM7 will require adding some rows, but not columns.')\n"
      ],
      "outputs": [],
      "metadata": {
        "id": "1bHQget4FSvt"
      }
    },
    {
      "cell_type": "code",
      "execution_count": null,
      "source": [
        "#@title Answer {display-mode: \"form\"}\n",
        "from IPython.display import Markdown\n",
        "display(Markdown('''\n",
        "$\\\\begin{array}{lllrrrlrrrl}\n",
        "\\\\mathtt{Set} & \\\\mathtt{EC} & n < -21 &  &  &  & \\\\downarrow &  &  &  & n > 27\\\\\\\\\n",
        "\\\\hline\n",
        "A_0 & [0] & \\\\ldots & -21 & -14 & -7 & \\\\mathbf{0} & 7 & 14 & 21 & \\\\ldots\\\\\\\\\n",
        "A_1 & [1] & \\\\ldots & -20 & -13 & -6 & \\\\mathbf{1} & 8 & 15 & 22 & \\\\ldots\\\\\\\\\n",
        "A_2 & [2] & \\\\ldots & -19 & -12 & -5 & \\\\mathbf{2} & 9 & 16 & 23 & \\\\ldots\\\\\\\\\n",
        "A_3 & [3] & \\\\ldots & -18 & -11 & -4 & \\\\mathbf{3} & 10 & 17 & 24 & \\\\ldots\\\\\\\\\n",
        "A_4 & [4] & \\\\ldots & -17 & -10 & -3 & \\\\mathbf{4} & 11 & 18 & 25 & \\\\ldots\\\\\\\\\n",
        "A_5 & [5] & \\\\ldots & -16 & -9 & -2 & \\\\mathbf{5} & 12 & 19 & 26 & \\\\ldots\\\\\\\\\n",
        "A_6 & [6] & \\\\ldots & -15 & -8 & -1 & \\\\mathbf{6} & 13 & 20 & 27 & \\\\ldots\\\\\\\\\n",
        "\\\\end{array}$\n",
        "'''))\n"
      ],
      "outputs": [],
      "metadata": {
        "id": "qQuP_6XNFehQ"
      }
    },
    {
      "cell_type": "markdown",
      "source": [
        "### Exercise 4.7.3\n"
      ],
      "metadata": {
        "id": "ouECDFCFF5r3"
      }
    },
    {
      "cell_type": "markdown",
      "source": [
        "Call two bitstrings equivalent if they both end in a 0 (and have length at least one).\n",
        "\n",
        "What CMM equivalence relation does this suggest?\n"
      ],
      "metadata": {
        "id": "-xOlwc91F6Nf"
      }
    },
    {
      "cell_type": "code",
      "execution_count": null,
      "source": [
        "#@title Hint {display-mode: \"form\"}\n",
        "print('Think parity, or oddness and evenness.')\n"
      ],
      "outputs": [],
      "metadata": {
        "id": "RRcf1TfMF85t"
      }
    },
    {
      "cell_type": "code",
      "execution_count": null,
      "source": [
        "#@title Answer {display-mode: \"form\"}\n",
        "print('''\n",
        "CM2 is the equivalence relation that says evens (numbers ending in 0 in\n",
        "binary) are equivalent to evens, and odds (numbers ending in 1 in binary) are\n",
        "equivalent to odds.\n",
        "''')\n"
      ],
      "outputs": [],
      "metadata": {
        "id": "hMh_m9AzGDxr"
      }
    },
    {
      "cell_type": "markdown",
      "source": [
        "### Exercise 4.7.4\n"
      ],
      "metadata": {
        "id": "ZOO1z3ayGKgT"
      }
    },
    {
      "cell_type": "markdown",
      "source": [
        "Consider the set of all bitstrings having length at least 3. Show that the relation on this set that says two bitstrings are related if they agree in the first three bits is an equivalence relation.\n"
      ],
      "metadata": {
        "id": "ZUV8LZLFGLcw"
      }
    },
    {
      "cell_type": "code",
      "execution_count": null,
      "source": [
        "#@title Hint {display-mode: \"form\"}\n",
        "from IPython.display import Markdown\n",
        "display(Markdown('''\n",
        "The function ```lambda bitstring: bitstring[:3]``` will partition into 8 ECs\n",
        "all bitstring having length at least 3. Argue that the three properties\n",
        "defining an ER are satisfied when equivalent bitstrings belong to the same EC.\n",
        "'''))\n"
      ],
      "outputs": [],
      "metadata": {
        "id": "o3WoPP_QGMnI"
      }
    },
    {
      "cell_type": "code",
      "execution_count": null,
      "source": [
        "#@title Answer {display-mode: \"form\"}\n",
        "from IPython.display import Markdown\n",
        "display(Markdown('''\n",
        "The function in the hint takes a bitstring and returns its first three bits as a\n",
        "substring. The ECs contain strings that are equivalent --- equal in their first\n",
        "three bits --- and so define an equivalence relation. This is because for all\n",
        "$x$, $y$, and $z$, the three properties are satisfied:\n",
        "* Reflexivity --- $x$ is in the same EC as $x$.\n",
        "* Symmetry --- if $x$ is in the same EC as $y$, then $y$ is in the same EC as $x$.\n",
        "*Transitivity --- if $x$ is in the same EC as $y$, and $y$ is in the same EC as $z$,\n",
        "  then $x$ is in the same EC as $z$.\n",
        "'''))\n"
      ],
      "outputs": [],
      "metadata": {
        "id": "wIClhnVMGRXa"
      }
    },
    {
      "cell_type": "markdown",
      "source": [
        "### Exercise 4.7.5\n"
      ],
      "metadata": {
        "id": "KfW_Po5vGXvB"
      }
    },
    {
      "cell_type": "markdown",
      "source": [
        "Investigate and experiment with the code and concepts found [here](https://stackoverflow.com/questions/38924421/is-there-a-standard-way-to-partition-an-interable-into-equivalence-classes-given/38924631#38924631).\n"
      ],
      "metadata": {
        "id": "K6MYE3jDGabS"
      }
    },
    {
      "cell_type": "code",
      "execution_count": null,
      "source": [
        "#@title Hint {display-mode: \"form\"}\n",
        "print('What are some good ERs to create interesting ECs from?')\n"
      ],
      "outputs": [],
      "metadata": {
        "id": "bupGTes3Gilt"
      }
    },
    {
      "cell_type": "code",
      "execution_count": null,
      "source": [
        "#@title Answer {display-mode: \"form\"}\n",
        "print('How about showing ample evidence of a curious mind at work?')\n"
      ],
      "outputs": [],
      "metadata": {
        "id": "kuRlI8NeGkP_"
      }
    },
    {
      "cell_type": "markdown",
      "source": [
        "## <font color=red>4.8  Same Old Same Old</font>\n"
      ],
      "metadata": {
        "id": "huYdjcA2GpMa"
      }
    },
    {
      "cell_type": "markdown",
      "source": [
        "### Exercise 4.8.1\n"
      ],
      "metadata": {
        "id": "Erfh1YIRGqL7"
      }
    },
    {
      "cell_type": "markdown",
      "source": [
        "What are the equivalence classes of the ER described as having a &ldquo;foolproof&rdquo; way to tell that it&rsquo;s an ER?\n"
      ],
      "metadata": {
        "id": "lQFQHxA3Gq-2"
      }
    },
    {
      "cell_type": "code",
      "execution_count": null,
      "source": [
        "#@title Hint {display-mode: \"form\"}\n",
        "print('Think about a bijective function and its inverse.')\n"
      ],
      "outputs": [],
      "metadata": {
        "id": "vaNortLAGsbT"
      }
    },
    {
      "cell_type": "code",
      "execution_count": null,
      "source": [
        "#@title Answer {display-mode: \"form\"}\n",
        "from IPython.display import Markdown\n",
        "display(Markdown('''\n",
        "The equivalence classes are the set of preimages of the function $f$, which is\n",
        "the same as the set of inverse images, i.e., the images of $f^{-1}$.\n",
        "'''))\n"
      ],
      "outputs": [],
      "metadata": {
        "id": "evEE9BkGGxiR"
      }
    },
    {
      "cell_type": "markdown",
      "source": [
        "### Exercise 4.8.2\n"
      ],
      "metadata": {
        "id": "jDG17_wlG06Q"
      }
    },
    {
      "cell_type": "markdown",
      "source": [
        "Characterize the following relations, generically named $R$. The first four have people as their domain. The last four have numbers as their domain.\n"
      ],
      "metadata": {
        "id": "C0UBBuv1G5h9"
      }
    },
    {
      "cell_type": "markdown",
      "source": [
        "If the relation is an ER, show it has reflexivity, symmetry and transitivity. If not, explain which of these three properties it lacks.\n"
      ],
      "metadata": {
        "id": "pVjSf9SrG7ts"
      }
    },
    {
      "cell_type": "markdown",
      "source": [
        "1. $xRy$ if $x$ and $y$ are siblings.\n",
        "2. $xRy$ if $x$ and $y$ have the same parents.\n",
        "3. $xRy$ if $x$ and $y$ share a common parent.\n",
        "4. $xRy$ if $x$ and $y$ speak a common language.\n",
        "5. $xRy$ if $x$ shares a vowel with $y$, with English words as $R$'s domain.\n",
        "6. $xRy$ if $x \\le y$.\n",
        "7. $xRy$ if $x^{2} + y^{2} = 1$.\n",
        "8. $xRy$ if $x + y = 42$.\n",
        "9. $xRy$ if $\\lceil x \\rceil = \\lfloor y \\rfloor$.\n"
      ],
      "metadata": {
        "id": "MDh0fILeG-ad"
      }
    },
    {
      "cell_type": "code",
      "execution_count": null,
      "source": [
        "#@title Hint {display-mode: \"form\"}\n",
        "from IPython.display import Markdown\n",
        "display(Markdown('''\n",
        "1. &ldquo;I&rsquo;m my own grandpa&rdquo; is a song that doesn&rsquo;t apply, except maybe to express an absurdity that you should avoid in analyzing this exercise.\n",
        "2. This is really straightforward.\n",
        "3. Sharing is caring. Be careful!\n",
        "4. Part 3 could be helpful.\n",
        "5. Ditto.\n",
        "6. It&rsquo;s pretty easy to see this one just by plugging in some numbers.\n",
        "7. Ditto.\n",
        "8. Think about what the solution to the equation $x + x = 42$ tells you.\n",
        "9. See Hint to 6.\n",
        "'''))\n"
      ],
      "outputs": [],
      "metadata": {
        "id": "u8WbsZ-wHGzT"
      }
    },
    {
      "cell_type": "code",
      "execution_count": null,
      "source": [
        "#@title Answer {display-mode: \"form\"}\n",
        "from IPython.display import Markdown\n",
        "display(Markdown('''\n",
        "1. Not an ER, lacks reflexivity. You are not your own sibling.\n",
        "2. Reflexivity: you have the same parents as yourself.\n",
        "   Symmetry: If you have the same parents as your brother, your brother has the same parents as you.\n",
        "   Transitivity: If you have the same parents as your sister,\n",
        "   and your sister has the same parents as your brother,\n",
        "   then you have the same parents as your brother.\n",
        "   Thus this is an ER.\n",
        "3. This is not an ER, because it is not necessarily transitive (assuming biological\n",
        "   parents are what is meant). X may have parents A and B, Y may have parents\n",
        "   B and C, and Z may have parents C and D. Then X and Y share a common parent\n",
        "   (B), Y and Z share a common parent (C), but X and Z do not share a common\n",
        "   parent.\n",
        "4. For similar reasoning to why the relation in Part 3 is not, this is also not an ER.\n",
        "5. Ditto.\n",
        "6. Not an ER, lacks symmetry. 3 is less than or equal to 4, but 4 is not less than or equal to 3.\n",
        "7. Not an ER, lacks transitivity. If $x^{2} + y^{2} = 1$, and $y^{2} + z^{2} = 1$, then $x^{2} + z^{2}$ does not necessarily $= 1$.\n",
        "8. Not an ER, lacks reflexivity. $x + x = 42$ is true for exactly one value, $x = 21$. So unless the universe for this relation consists of the number 21, {\\em and nothing else}, it cannot be reflexive. If the universe is just the number 21, then it is an ER (trivially).\n",
        "9. Not an ER, lacks reflexivity. $\\\\lceil 3.14 \\\\rceil \\\\ne \\\\lfloor 3.14 \\\\rfloor$. Lacks symmetry too.\n",
        "'''))\n"
      ],
      "outputs": [],
      "metadata": {
        "id": "2hnfNvdCHLIe"
      }
    },
    {
      "cell_type": "markdown",
      "source": [
        "### Exercise 4.8.3\n"
      ],
      "metadata": {
        "id": "6pRlbI9fHin3"
      }
    },
    {
      "cell_type": "markdown",
      "source": [
        "Modify your &ldquo;tabulation&rdquo; code from Exercise 4.2.6 to determine how many relations of size $n = 2$, $n = 3$, and $n = 4$, are ERs, and how many are of two other special types, namely, the **preorder** and the **partial order** types. GPAOs await to delve into these, but for determining their frequency of occurrence, it will suffice to know that a preorder is a relation that is reflexive and transitive, while a partial order is one that is reflexive, antisymmetric, and transitive.\n"
      ],
      "metadata": {
        "id": "ODOK_haYHjEs"
      }
    },
    {
      "cell_type": "code",
      "execution_count": null,
      "source": [
        "#@title Hint {display-mode: \"form\"}\n",
        "from IPython.display import Markdown\n",
        "display(Markdown('''\n",
        "This is a straightforward exercise, and you can check your answers in the Enumeration table at [this web site](https://en.wikipedia.org/wiki/Binary_relation).\n",
        "'''))\n"
      ],
      "outputs": [],
      "metadata": {
        "id": "n6TnPAiRHn67"
      }
    },
    {
      "cell_type": "code",
      "execution_count": null,
      "source": [
        "#@title Answer {display-mode: \"form\"}\n",
        "def reflexive(M, n):\n",
        "  for i in range(n):\n",
        "    if not M[i][i]:\n",
        "      return False\n",
        "  return True\n",
        "\n",
        "def symmetric(M, n):\n",
        "  for i in range(n):\n",
        "    for j in range(n):\n",
        "      if not M[i][j] == M[j][i]:\n",
        "        return False\n",
        "  return True\n",
        "\n",
        "def antisymmetric(M, n):\n",
        "  for i in range(n):\n",
        "    for j in range(n):\n",
        "      if i != j and M[i][j] and M[j][i]:\n",
        "        return False\n",
        "  return True\n",
        "\n",
        "def transitive(M, n):\n",
        "  A = B = M\n",
        "  Msquared = [[sum(a and b for a, b in \\\n",
        "              zip(Arow, Bcol)) \\\n",
        "              for Bcol in zip(*B)] for Arow in A]\n",
        "  for i in range(n):\n",
        "    for j in range(n):\n",
        "      if Msquared[i][j] and not M[i][j]:\n",
        "        return False\n",
        "  return True\n",
        "\n",
        "def countall(n):\n",
        "  allr = {'ER':0, 'preorder':0, 'partial order':0}\n",
        "  for encoding in range(2 ** n ** 2):\n",
        "    M = int2matrix(encoding, n)\n",
        "    ref = reflexive(M, n)\n",
        "    sym = symmetric(M, n)\n",
        "    ant = antisymmetric(M, n)\n",
        "    tra = transitive(M, n)\n",
        "    allr['ER'] += ref and sym and tra\n",
        "    allr['preorder'] += ref and tra\n",
        "    allr['partial order'] += ref and ant and tra\n",
        "  return allr\n",
        "\n",
        "for n in range(2, 5):\n",
        "  all_of_them = countall(n)\n",
        "  print('\\nn = ', n)\n",
        "  for item in all_of_them.items():\n",
        "    print(item[1], ':', item[0])\n"
      ],
      "outputs": [],
      "metadata": {
        "id": "ymv9ghpFH0Mo"
      }
    }
  ],
  "metadata": {
    "colab": {
      "name": "chapter-4-relations-exercises.ipynb",
      "private_outputs": true,
      "provenance": [],
      "collapsed_sections": [],
      "toc_visible": true
    },
    "kernelspec": {
      "display_name": "Python 3",
      "language": "python",
      "name": "python3"
    },
    "language_info": {
      "codemirror_mode": {
        "name": "ipython",
        "version": 3
      },
      "file_extension": ".py",
      "mimetype": "text/x-python",
      "name": "python",
      "nbconvert_exporter": "python",
      "pygments_lexer": "ipython3",
      "version": "3.9.0"
    }
  },
  "nbformat": 4,
  "nbformat_minor": 0
}